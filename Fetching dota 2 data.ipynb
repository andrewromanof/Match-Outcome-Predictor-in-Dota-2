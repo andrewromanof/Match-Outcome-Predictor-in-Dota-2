{
 "cells": [
  {
   "cell_type": "code",
   "execution_count": 1,
   "id": "a0156859-7cec-4c1f-9c18-df2263a54e7c",
   "metadata": {},
   "outputs": [],
   "source": [
    "import requests\n",
    "import json"
   ]
  },
  {
   "cell_type": "code",
   "execution_count": 2,
   "id": "9c5453dc-b136-4586-b5a3-157a54304d8a",
   "metadata": {},
   "outputs": [],
   "source": [
    "API_KEY = ''"
   ]
  },
  {
   "cell_type": "code",
   "execution_count": 1,
   "id": "fdcff609-3660-4202-a116-008c6b762eef",
   "metadata": {},
   "outputs": [],
   "source": [
    "# Function to fetch recent matches from Opendota API, it only retrieves 100 matches at a time so there is a script to\n",
    "# Change the seed of matches to the current match id, it starts by taking the freshest then works its way down\n",
    "def fetch_recent_matches():\n",
    "    matches = []\n",
    "    num_matches_fetched = 0\n",
    "    seen_match_ids = set()\n",
    "    current_match_id = None\n",
    "\n",
    "    while num_matches_fetched < 5000:\n",
    "        url = f'https://api.opendota.com/api/publicMatches?api_key={API_KEY}&min_rank=80'\n",
    "        if current_match_id:\n",
    "            url += f'&less_than_match_id={current_match_id}'\n",
    "\n",
    "        response = requests.get(url)\n",
    "        \n",
    "        if response.status_code == 200:\n",
    "            new_matches = response.json()\n",
    "            if not new_matches:\n",
    "                break\n",
    "            \n",
    "            for match in new_matches:\n",
    "                match_id = match['match_id']\n",
    "                if match_id not in seen_match_ids:\n",
    "                    matches.append(match)\n",
    "                    seen_match_ids.add(match_id)\n",
    "                    num_matches_fetched += 1\n",
    "                    current_match_id = match_id\n",
    "        else:\n",
    "            print(f\"Error fetching recent matches: {response.status_code} - {response.text}\")\n",
    "            break\n",
    "    \n",
    "    return matches"
   ]
  },
  {
   "cell_type": "code",
   "execution_count": 3,
   "id": "1ad1b173-0fb9-4652-9a15-ac79500490ff",
   "metadata": {},
   "outputs": [],
   "source": [
    "# A function to fetch invdividual match details and do some data cleaning in it since each match id contains a lot of data, most of\n",
    "# it being useless for this project\n",
    "def fetch_match_details(match_id):\n",
    "    url = f'https://api.opendota.com/api/matches/{match_id}?api_key={API_KEY}'\n",
    "    response = requests.get(url)\n",
    "    if response.status_code == 200:\n",
    "        match_details = response.json()\n",
    "        \n",
    "        # Define columns to drop\n",
    "        columns_to_drop = ['match_id', 'chat', 'cosmetics', 'objectives', 'players', 'pre_game_duration', 'start_time',\n",
    "                          'match_seq_num', 'series_id', 'series_type', 'replay_salt', 'all_word_counts', 'my_word_counts',\n",
    "                          'throw', 'loss', 'replay_url', 'comeback', 'stomp', 'metadata', 'version', 'draft_timings', 'teamfights',\n",
    "                          'radiant_gold_adv', 'radiant_xp_adv', 'engine', 'cluster', 'lobby_type', 'human_players', 'leagueid', \n",
    "                           'game_mode', 'flags', 'patch', 'first_blood_time', 'od_data']\n",
    "        \n",
    "        # Drop specified columns\n",
    "        for col in columns_to_drop:\n",
    "            match_details.pop(col, None)\n",
    "        \n",
    "        return match_details\n",
    "    else:\n",
    "        print(f\"Error fetching match details for match {match_id}: {response.status_code} - {response.text}\")\n",
    "        return None"
   ]
  },
  {
   "cell_type": "code",
   "execution_count": 4,
   "id": "18370cff-c4ad-433e-9505-249655fb9483",
   "metadata": {},
   "outputs": [],
   "source": [
    "# A function to filter the matches from the fetched matches to only include matches with Ranked All pick as their game mode\n",
    "def filter_matches(matches):\n",
    "    filtered_matches = []\n",
    "    for match in matches:\n",
    "        if match['lobby_type'] == 7 and match['game_mode'] == 22:  # Ranked and All Pick\n",
    "            filtered_matches.append(match)\n",
    "    return filtered_matches"
   ]
  },
  {
   "cell_type": "code",
   "execution_count": 5,
   "id": "a94e49db-9335-41ff-89bb-53804b71cb43",
   "metadata": {},
   "outputs": [],
   "source": [
    "# A functino to write and save the data to file\n",
    "def save_to_file(data, filename):\n",
    "    with open(filename, 'w') as file:\n",
    "        json.dump(data, file)"
   ]
  },
  {
   "cell_type": "code",
   "execution_count": 7,
   "id": "64c6496e-f2b3-4b3b-9d42-ad6ad0902e97",
   "metadata": {},
   "outputs": [],
   "source": [
    "output_filename = 'recent_matches.json'  # Output file name\n",
    "with open(output_filename, 'r') as file:\n",
    "    recent_matches = json.load(file)"
   ]
  },
  {
   "cell_type": "code",
   "execution_count": 9,
   "id": "9cc2bb12-db1c-4a4e-8bf9-1961bf14909e",
   "metadata": {},
   "outputs": [
    {
     "name": "stdout",
     "output_type": "stream",
     "text": [
      "5000 recent matches saved to 'recent_matches.json'\n",
      "4875 matches saved to 'filtered_matches.json'\n"
     ]
    }
   ],
   "source": [
    "# Utilizing the above functions to retrieve the data\n",
    "recent_matches = fetch_recent_matches()\n",
    "\n",
    "if recent_matches:\n",
    "    # Save recent matches data to a file\n",
    "    recent_matches_filename = 'recent_matches.json'\n",
    "    save_to_file(recent_matches, recent_matches_filename)\n",
    "    print(f\"{len(recent_matches)} recent matches saved to '{recent_matches_filename}'\")\n",
    "else:\n",
    "    print(\"No recent matches fetched.\")\n",
    "\n",
    "if recent_matches:\n",
    "    # Filter matches\n",
    "    filtered_matches = filter_matches(recent_matches)\n",
    "\n",
    "    # Fetch details of filtered matches\n",
    "    filtered_matches_details = []\n",
    "    for match in filtered_matches:\n",
    "        match_details = fetch_match_details(match['match_id'])\n",
    "        if match_details:\n",
    "            filtered_matches_details.append(match_details)\n",
    "\n",
    "    # Save filtered matches data to a file\n",
    "    filename = 'filtered_matches.json'\n",
    "    with open(filename, 'w') as file:\n",
    "        json.dump(filtered_matches_details, file)\n",
    "\n",
    "    print(f\"{len(filtered_matches)} matches saved to '{filename}'\")\n",
    "else:\n",
    "    print(\"No recent matches fetched.\")"
   ]
  }
 ],
 "metadata": {
  "kernelspec": {
   "display_name": "Python 3 (ipykernel)",
   "language": "python",
   "name": "python3"
  },
  "language_info": {
   "codemirror_mode": {
    "name": "ipython",
    "version": 3
   },
   "file_extension": ".py",
   "mimetype": "text/x-python",
   "name": "python",
   "nbconvert_exporter": "python",
   "pygments_lexer": "ipython3",
   "version": "3.10.12"
  }
 },
 "nbformat": 4,
 "nbformat_minor": 5
}
